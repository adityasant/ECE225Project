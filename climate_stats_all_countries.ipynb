{
 "cells": [
  {
   "cell_type": "code",
   "execution_count": 2,
   "metadata": {},
   "outputs": [],
   "source": [
    "import pandas as pd\n",
    "import numpy as np\n",
    "import matplotlib.pyplot as plt\n",
    "import statsmodels.api as sm\n",
    "\n",
    "from scipy.stats import norm\n",
    "from sklearn.mixture import GaussianMixture\n",
    "from sklearn.model_selection import GridSearchCV\n",
    "from sklearn.neighbors import KernelDensity"
   ]
  },
  {
   "cell_type": "code",
   "execution_count": 3,
   "metadata": {},
   "outputs": [],
   "source": [
    "temp_data0 = pd.read_csv(\"Datasets/GlobalLandTemperaturesByCountry.csv\")"
   ]
  },
  {
   "cell_type": "markdown",
   "metadata": {},
   "source": [
    "Extracting the list of all countries"
   ]
  },
  {
   "cell_type": "code",
   "execution_count": 20,
   "metadata": {},
   "outputs": [],
   "source": [
    "country_list0 = np.array(temp_data0['Country'])\n",
    "country_list_data = set(country_list0)\n"
   ]
  },
  {
   "cell_type": "code",
   "execution_count": 53,
   "metadata": {},
   "outputs": [
    {
     "name": "stdout",
     "output_type": "stream",
     "text": [
      "{'Central African Republic', 'Ethiopia', 'Dominica', 'Angola', 'Finland', 'Bonaire, Saint Eustatius And Saba', 'El Salvador', 'Libya', 'Sao Tome And Principe', 'South Africa', 'Italy', 'France (Europe)', 'Heard Island And Mcdonald Islands', 'Paraguay', 'Cape Verde', 'Serbia', 'Nepal', 'Sint Maarten', 'South America', 'Bahamas', 'Fiji', 'Georgia', 'French Polynesia', 'Puerto Rico', 'Niue', 'Kuwait', 'Armenia', 'Mayotte', 'Denmark (Europe)', 'Turkmenistan', 'Bulgaria', 'Venezuela', 'Aruba', 'Senegal', 'Saint Kitts And Nevis', 'French Guiana', 'Palestina', 'Congo', 'Rwanda', 'Belarus', 'Haiti', 'Seychelles', 'Chile', 'North Korea', 'Congo (Democratic Republic Of The)', 'Gaza Strip', 'Mali', 'Europe', 'Kenya', 'Djibouti', 'Indonesia', 'Germany', 'Lesotho', 'Gambia', 'New Zealand', 'Russia', 'Saint Martin', 'Saint Vincent And The Grenadines', 'Peru', 'Martinique', 'Thailand', 'Malaysia', 'Argentina', 'Brazil', 'Denmark', 'Poland', 'Netherlands', 'Macau', 'Malawi', 'French Southern And Antarctic Lands', 'Timor Leste', 'United States', 'Madagascar', 'Svalbard And Jan Mayen', 'Cayman Islands', 'Lithuania', 'Bolivia', 'New Caledonia', 'Uzbekistan', 'Guam', 'Singapore', 'Cambodia', 'Anguilla', 'Czech Republic', 'Mauritania', 'Kingman Reef', 'San Marino', 'United Kingdom', 'Montserrat', 'British Virgin Islands', 'Iceland', 'Macedonia', 'Moldova', 'Falkland Islands (Islas Malvinas)', 'Burma', 'Tonga', 'Oceania', 'Bahrain', 'Zimbabwe', 'Nicaragua', 'Uganda', 'Montenegro', 'India', 'Papua New Guinea', 'China', 'Kiribati', 'Sudan', 'Taiwan', 'Bosnia And Herzegovina', 'Samoa', 'Saint Pierre And Miquelon', 'Baker Island', 'Cuba', 'Federated States Of Micronesia', 'Switzerland', 'Ukraine', 'Ghana', 'Zambia', 'Tunisia', 'Cameroon', 'American Samoa', 'Mozambique', 'Mongolia', 'Hong Kong', 'Japan', 'Comoros', 'Croatia', 'Oman', 'Palmyra Atoll', 'Spain', 'Guinea', 'Jersey', 'Netherlands (Europe)', 'Tajikistan', 'Mauritius', 'Guatemala', 'Malta', 'Algeria', 'Chad', 'Austria', 'Equatorial Guinea', 'Monaco', 'Reunion', 'South Korea', 'Philippines', 'Jamaica', 'Liechtenstein', 'Belize', 'Norway', 'Western Sahara', 'Togo', 'Luxembourg', 'Vietnam', 'Sweden', 'Panama', 'Guernsey', 'Andorra', 'United Arab Emirates', 'Northern Mariana Islands', 'Afghanistan', 'Hungary', 'Portugal', 'Somalia', 'Australia', 'Bangladesh', 'Guadeloupe', 'Dominican Republic', 'Swaziland', 'United Kingdom (Europe)', 'Colombia', 'Pakistan', 'Yemen', 'Costa Rica', 'Turks And Caicas Islands', 'Uruguay', 'Latvia', 'Cyprus', 'Åland', 'Iran', 'Azerbaijan', 'Estonia', 'Tanzania', 'North America', 'Namibia', 'Israel', 'Mexico', 'Kazakhstan', 'Lebanon', 'Palau', 'Jordan', 'Burundi', 'Syria', 'Belgium', 'Nigeria', 'Greenland', 'Trinidad And Tobago', 'Virgin Islands', 'Turkey', 'Grenada', 'Saint Lucia', 'Slovenia', 'Africa', 'Isle Of Man', 'Asia', 'Canada', 'Greece', 'Iraq', 'Saint Barthélemy', 'Albania', 'Faroe Islands', 'Antigua And Barbuda', 'France', 'Qatar', 'Gabon', 'Eritrea', 'Guinea Bissau', 'Laos', 'Ecuador', 'Guyana', 'Curaçao', 'Barbados', 'Christmas Island', 'Liberia', 'Kyrgyzstan', 'Antarctica', 'Niger', 'Benin', 'Saudi Arabia', 'Suriname', 'Honduras', 'Morocco', 'Ireland', 'Romania', 'Burkina Faso', 'South Georgia And The South Sandwich Isla', 'Sri Lanka', 'Slovakia', 'Bhutan', 'Botswana', 'Egypt', \"Côte D'Ivoire\", 'Sierra Leone', 'Solomon Islands'}\n"
     ]
    }
   ],
   "source": [
    "print(country_list_data)"
   ]
  },
  {
   "cell_type": "markdown",
   "metadata": {},
   "source": [
    "Function to extract the mean of the fitted data"
   ]
  },
  {
   "cell_type": "code",
   "execution_count": 79,
   "metadata": {},
   "outputs": [],
   "source": [
    "start_year = 1964\n",
    "start_date = str(start_year)+'-01-01'\n",
    "end_year = 2012\n",
    "end_date = str(end_year)+'-12-01'\n",
    "num_years = end_year - start_year + 1"
   ]
  },
  {
   "cell_type": "code",
   "execution_count": 80,
   "metadata": {},
   "outputs": [],
   "source": [
    "def func_climate_stats(temp_data0,country,start_date,end_date,num_years):\n",
    "    temp_data_USA = temp_data0[temp_data0['Country'].str.contains(country)]\n",
    "    temp_data = []\n",
    "    date_data = []\n",
    "    st = 0\n",
    "    end = 0\n",
    "    ind = 0\n",
    "    \n",
    "    flag = 1\n",
    "    \n",
    "    for d in temp_data_USA['dt']:\n",
    "        if(d==start_date):\n",
    "            st = ind\n",
    "        if(st!=0 and end==0):\n",
    "            date_data.append(d)\n",
    "        if(d==end_date):\n",
    "            end = ind\n",
    "        ind+=1\n",
    "    \n",
    "    temp_data = np.array(temp_data_USA['AverageTemperature'][st:end+1])\n",
    "    \n",
    "    if(len(temp_data)/12!=num_years or np.isnan(np.sum(temp_data))):\n",
    "        flag = 0\n",
    "        return 0, 0, flag\n",
    "    \n",
    "    t1 = temp_data.reshape(-1,12)\n",
    "    \n",
    "    x_arr = np.linspace(0,num_years-1,num_years)\n",
    "    p = np.zeros([12,2])\n",
    "    \n",
    "    for k in range(12):\n",
    "        p[k,:] = np.polyfit(x_arr,t1[:,k],1)\n",
    "    \n",
    "    p_mean = np.mean(p[:,0])\n",
    "    p_std = np.std(p[:,0])\n",
    "    \n",
    "    return p_mean, p_std, flag\n",
    "    "
   ]
  },
  {
   "cell_type": "code",
   "execution_count": 81,
   "metadata": {},
   "outputs": [],
   "source": [
    "p_mean,p_std,_ = func_climate_stats(temp_data0,'Georgia',start_date,end_date,num_years)"
   ]
  },
  {
   "cell_type": "markdown",
   "metadata": {},
   "source": [
    "Main function to get for all countries"
   ]
  },
  {
   "cell_type": "code",
   "execution_count": 82,
   "metadata": {},
   "outputs": [
    {
     "name": "stdout",
     "output_type": "stream",
     "text": [
      "0 Central African Republic\n",
      "1 Ethiopia\n",
      "2 Dominica\n",
      "3 Angola\n",
      "4 Finland\n",
      "5 Bonaire, Saint Eustatius And Saba\n",
      "6 El Salvador\n",
      "7 Libya\n",
      "8 Sao Tome And Principe\n",
      "9 South Africa\n",
      "10 Italy\n"
     ]
    },
    {
     "name": "stderr",
     "output_type": "stream",
     "text": [
      "/Users/aditya/Applications/anaconda3/lib/python3.7/site-packages/ipykernel_launcher.py:2: UserWarning: This pattern has match groups. To actually get the groups, use str.extract.\n",
      "  \n"
     ]
    },
    {
     "name": "stdout",
     "output_type": "stream",
     "text": [
      "Not done for France (Europe)\n",
      "11 Heard Island And Mcdonald Islands\n",
      "12 Paraguay\n",
      "13 Cape Verde\n",
      "14 Serbia\n",
      "15 Nepal\n",
      "16 Sint Maarten\n",
      "17 South America\n",
      "18 Bahamas\n",
      "19 Fiji\n",
      "20 Georgia\n",
      "21 French Polynesia\n",
      "22 Puerto Rico\n",
      "23 Niue\n",
      "24 Kuwait\n",
      "25 Armenia\n",
      "26 Mayotte\n"
     ]
    },
    {
     "name": "stderr",
     "output_type": "stream",
     "text": [
      "/Users/aditya/Applications/anaconda3/lib/python3.7/site-packages/ipykernel_launcher.py:2: UserWarning: This pattern has match groups. To actually get the groups, use str.extract.\n",
      "  \n"
     ]
    },
    {
     "name": "stdout",
     "output_type": "stream",
     "text": [
      "Not done for Denmark (Europe)\n",
      "27 Turkmenistan\n",
      "28 Bulgaria\n",
      "29 Venezuela\n",
      "30 Aruba\n",
      "31 Senegal\n",
      "32 Saint Kitts And Nevis\n",
      "33 French Guiana\n",
      "34 Palestina\n",
      "35 Congo\n",
      "36 Rwanda\n",
      "37 Belarus\n",
      "38 Haiti\n",
      "39 Seychelles\n",
      "40 Chile\n",
      "41 North Korea\n"
     ]
    },
    {
     "name": "stderr",
     "output_type": "stream",
     "text": [
      "/Users/aditya/Applications/anaconda3/lib/python3.7/site-packages/ipykernel_launcher.py:2: UserWarning: This pattern has match groups. To actually get the groups, use str.extract.\n",
      "  \n"
     ]
    },
    {
     "name": "stdout",
     "output_type": "stream",
     "text": [
      "Not done for Congo (Democratic Republic Of The)\n",
      "42 Gaza Strip\n",
      "43 Mali\n",
      "44 Europe\n",
      "45 Kenya\n",
      "46 Djibouti\n",
      "47 Indonesia\n",
      "48 Germany\n",
      "49 Lesotho\n",
      "50 Gambia\n",
      "51 New Zealand\n",
      "52 Russia\n",
      "53 Saint Martin\n",
      "54 Saint Vincent And The Grenadines\n",
      "55 Peru\n",
      "56 Martinique\n",
      "57 Thailand\n",
      "58 Malaysia\n",
      "59 Argentina\n",
      "60 Brazil\n",
      "61 Denmark\n",
      "62 Poland\n",
      "63 Netherlands\n",
      "64 Macau\n",
      "65 Malawi\n",
      "66 French Southern And Antarctic Lands\n",
      "67 Timor Leste\n",
      "68 United States\n",
      "69 Madagascar\n",
      "70 Svalbard And Jan Mayen\n",
      "71 Cayman Islands\n",
      "72 Lithuania\n",
      "73 Bolivia\n",
      "74 New Caledonia\n",
      "75 Uzbekistan\n",
      "76 Guam\n",
      "77 Singapore\n",
      "78 Cambodia\n",
      "79 Anguilla\n",
      "80 Czech Republic\n",
      "81 Mauritania\n",
      "82 Kingman Reef\n",
      "83 San Marino\n",
      "84 United Kingdom\n",
      "85 Montserrat\n",
      "86 British Virgin Islands\n",
      "87 Iceland\n",
      "88 Macedonia\n",
      "89 Moldova\n"
     ]
    },
    {
     "name": "stderr",
     "output_type": "stream",
     "text": [
      "/Users/aditya/Applications/anaconda3/lib/python3.7/site-packages/ipykernel_launcher.py:2: UserWarning: This pattern has match groups. To actually get the groups, use str.extract.\n",
      "  \n"
     ]
    },
    {
     "name": "stdout",
     "output_type": "stream",
     "text": [
      "Not done for Falkland Islands (Islas Malvinas)\n",
      "90 Burma\n",
      "91 Tonga\n",
      "92 Oceania\n",
      "93 Bahrain\n",
      "94 Zimbabwe\n",
      "95 Nicaragua\n",
      "96 Uganda\n",
      "97 Montenegro\n",
      "98 India\n",
      "99 Papua New Guinea\n",
      "100 China\n",
      "101 Kiribati\n",
      "102 Sudan\n",
      "103 Taiwan\n",
      "104 Bosnia And Herzegovina\n",
      "105 Samoa\n",
      "106 Saint Pierre And Miquelon\n",
      "107 Baker Island\n",
      "108 Cuba\n",
      "109 Federated States Of Micronesia\n",
      "110 Switzerland\n",
      "111 Ukraine\n",
      "112 Ghana\n",
      "113 Zambia\n",
      "114 Tunisia\n",
      "115 Cameroon\n",
      "116 American Samoa\n",
      "117 Mozambique\n",
      "118 Mongolia\n",
      "119 Hong Kong\n",
      "120 Japan\n",
      "121 Comoros\n",
      "122 Croatia\n",
      "123 Oman\n",
      "124 Palmyra Atoll\n",
      "125 Spain\n",
      "126 Guinea\n",
      "127 Jersey\n"
     ]
    },
    {
     "name": "stderr",
     "output_type": "stream",
     "text": [
      "/Users/aditya/Applications/anaconda3/lib/python3.7/site-packages/ipykernel_launcher.py:2: UserWarning: This pattern has match groups. To actually get the groups, use str.extract.\n",
      "  \n"
     ]
    },
    {
     "name": "stdout",
     "output_type": "stream",
     "text": [
      "Not done for Netherlands (Europe)\n",
      "128 Tajikistan\n",
      "129 Mauritius\n",
      "130 Guatemala\n",
      "131 Malta\n",
      "132 Algeria\n",
      "133 Chad\n",
      "134 Austria\n",
      "135 Equatorial Guinea\n",
      "136 Monaco\n",
      "137 Reunion\n",
      "138 South Korea\n",
      "139 Philippines\n",
      "140 Jamaica\n",
      "141 Liechtenstein\n",
      "142 Belize\n",
      "143 Norway\n",
      "144 Western Sahara\n",
      "145 Togo\n",
      "146 Luxembourg\n",
      "147 Vietnam\n",
      "148 Sweden\n",
      "149 Panama\n",
      "150 Guernsey\n",
      "151 Andorra\n",
      "152 United Arab Emirates\n",
      "153 Northern Mariana Islands\n",
      "154 Afghanistan\n",
      "155 Hungary\n",
      "156 Portugal\n",
      "157 Somalia\n",
      "158 Australia\n",
      "159 Bangladesh\n",
      "160 Guadeloupe\n",
      "161 Dominican Republic\n",
      "162 Swaziland\n"
     ]
    },
    {
     "name": "stderr",
     "output_type": "stream",
     "text": [
      "/Users/aditya/Applications/anaconda3/lib/python3.7/site-packages/ipykernel_launcher.py:2: UserWarning: This pattern has match groups. To actually get the groups, use str.extract.\n",
      "  \n"
     ]
    },
    {
     "name": "stdout",
     "output_type": "stream",
     "text": [
      "Not done for United Kingdom (Europe)\n",
      "163 Colombia\n",
      "164 Pakistan\n",
      "165 Yemen\n",
      "166 Costa Rica\n",
      "167 Turks And Caicas Islands\n",
      "168 Uruguay\n",
      "169 Latvia\n",
      "170 Cyprus\n",
      "171 Åland\n",
      "172 Iran\n",
      "173 Azerbaijan\n",
      "174 Estonia\n",
      "175 Tanzania\n",
      "176 North America\n",
      "177 Namibia\n",
      "178 Israel\n",
      "179 Mexico\n",
      "180 Kazakhstan\n",
      "181 Lebanon\n",
      "182 Palau\n",
      "183 Jordan\n",
      "184 Burundi\n",
      "185 Syria\n",
      "186 Belgium\n",
      "187 Nigeria\n",
      "188 Greenland\n",
      "189 Trinidad And Tobago\n",
      "190 Virgin Islands\n",
      "191 Turkey\n",
      "192 Grenada\n",
      "193 Saint Lucia\n",
      "194 Slovenia\n",
      "195 Africa\n",
      "196 Isle Of Man\n",
      "197 Asia\n",
      "198 Canada\n",
      "199 Greece\n",
      "200 Iraq\n",
      "201 Saint Barthélemy\n",
      "202 Albania\n",
      "203 Faroe Islands\n",
      "204 Antigua And Barbuda\n",
      "205 France\n",
      "206 Qatar\n",
      "207 Gabon\n",
      "208 Eritrea\n",
      "209 Guinea Bissau\n",
      "210 Laos\n",
      "211 Ecuador\n",
      "212 Guyana\n",
      "213 Curaçao\n",
      "214 Barbados\n",
      "215 Christmas Island\n",
      "216 Liberia\n",
      "217 Kyrgyzstan\n",
      "Not done for Antarctica\n",
      "218 Niger\n",
      "219 Benin\n",
      "220 Saudi Arabia\n",
      "221 Suriname\n",
      "222 Honduras\n",
      "223 Morocco\n",
      "224 Ireland\n",
      "225 Romania\n",
      "226 Burkina Faso\n",
      "227 South Georgia And The South Sandwich Isla\n",
      "228 Sri Lanka\n",
      "229 Slovakia\n",
      "230 Bhutan\n",
      "231 Botswana\n",
      "232 Egypt\n",
      "233 Côte D'Ivoire\n",
      "234 Sierra Leone\n",
      "235 Solomon Islands\n"
     ]
    }
   ],
   "source": [
    "ind = 0\n",
    "p_mean = np.zeros([len(country_list_data),1])\n",
    "p_std = np.zeros([len(country_list_data),1])\n",
    "\n",
    "for country in country_list_data:\n",
    "    p_m,p_s,flag = func_climate_stats(temp_data0,country,start_date,\n",
    "                                      end_date,num_years)\n",
    "    if flag==1:\n",
    "        print(ind,country)\n",
    "        p_mean[ind] = p_m\n",
    "        p_std[ind] = p_s\n",
    "        ind+=1\n",
    "    else:\n",
    "        print('Not done for',country)"
   ]
  },
  {
   "cell_type": "code",
   "execution_count": 83,
   "metadata": {},
   "outputs": [
    {
     "data": {
      "text/plain": [
       "[<matplotlib.lines.Line2D at 0x1c1a5e6c88>]"
      ]
     },
     "execution_count": 83,
     "metadata": {},
     "output_type": "execute_result"
    },
    {
     "data": {
      "image/png": "[encoded data removed]",
      "text/plain": [
       "<Figure size 432x288 with 1 Axes>"
      ]
     },
     "metadata": {
      "needs_background": "light"
     },
     "output_type": "display_data"
    }
   ],
   "source": [
    "plt.plot(p_mean[0:ind])\n",
    "plt.plot(p_std[0:ind])"
   ]
  },
  {
   "cell_type": "code",
   "execution_count": 84,
   "metadata": {},
   "outputs": [
    {
     "data": {
      "text/plain": [
       "0.021502927269673164"
      ]
     },
     "execution_count": 84,
     "metadata": {},
     "output_type": "execute_result"
    }
   ],
   "source": [
    "np.mean(p_mean)\n",
    "#np.std(p_std)"
   ]
  },
  {
   "cell_type": "code",
   "execution_count": 85,
   "metadata": {},
   "outputs": [
    {
     "data": {
      "text/plain": [
       "[<matplotlib.lines.Line2D at 0x1c1ac64860>]"
      ]
     },
     "execution_count": 85,
     "metadata": {},
     "output_type": "execute_result"
    },
    {
     "data": {
      "image/png": "[encoded data removed]",
      "text/plain": [
       "<Figure size 432x288 with 1 Axes>"
      ]
     },
     "metadata": {
      "needs_background": "light"
     },
     "output_type": "display_data"
    }
   ],
   "source": [
    "x_gauss = np.linspace(-0.1,0.1,100)\n",
    "g_gauss = norm.pdf(x_gauss,np.mean(p_mean),np.std(p_std))\n",
    "plt.plot(x_gauss,g_gauss)"
   ]
  },
  {
   "cell_type": "code",
   "execution_count": null,
   "metadata": {},
   "outputs": [],
   "source": []
  }
 ],
 "metadata": {
  "kernelspec": {
   "display_name": "Python 3",
   "language": "python",
   "name": "python3"
  },
  "language_info": {
   "codemirror_mode": {
    "name": "ipython",
    "version": 3
   },
   "file_extension": ".py",
   "mimetype": "text/x-python",
   "name": "python",
   "nbconvert_exporter": "python",
   "pygments_lexer": "ipython3",
   "version": "3.7.3"
  }
 },
 "nbformat": 4,
 "nbformat_minor": 2
}
